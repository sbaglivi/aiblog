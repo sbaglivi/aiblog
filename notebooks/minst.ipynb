{
 "cells": [
  {
   "cell_type": "code",
   "execution_count": 1,
   "id": "db2f768c-906c-4905-8e53-fec55a8ceb79",
   "metadata": {},
   "outputs": [
    {
     "data": {
      "text/html": [
       "\n",
       "<style>\n",
       "    /* Turns off some styling */\n",
       "    progress {\n",
       "        /* gets rid of default border in Firefox and Opera. */\n",
       "        border: none;\n",
       "        /* Needs to be in here for Safari polyfill so background images work as expected. */\n",
       "        background-size: auto;\n",
       "    }\n",
       "    progress:not([value]), progress:not([value])::-webkit-progress-bar {\n",
       "        background: repeating-linear-gradient(45deg, #7e7e7e, #7e7e7e 10px, #5c5c5c 10px, #5c5c5c 20px);\n",
       "    }\n",
       "    .progress-bar-interrupted, .progress-bar-interrupted::-webkit-progress-bar {\n",
       "        background: #F44336;\n",
       "    }\n",
       "</style>\n"
      ],
      "text/plain": [
       "<IPython.core.display.HTML object>"
      ]
     },
     "metadata": {},
     "output_type": "display_data"
    },
    {
     "data": {
      "text/html": [
       "\n",
       "    <div>\n",
       "      <progress value='3219456' class='' max='3214948' style='width:300px; height:20px; vertical-align: middle;'></progress>\n",
       "      100.14% [3219456/3214948 00:00&lt;00:00]\n",
       "    </div>\n",
       "    "
      ],
      "text/plain": [
       "<IPython.core.display.HTML object>"
      ]
     },
     "metadata": {},
     "output_type": "display_data"
    }
   ],
   "source": [
    "from fastai.vision.all import *\n",
    "from fastbook import *\n",
    "import torch\n",
    "import torchvision.transforms.functional as TF\n",
    "import matplotlib.pyplot as plt"
   ]
  },
  {
   "cell_type": "code",
   "execution_count": null,
   "id": "96c4dc7b-d43b-4c24-bfac-eebe1ad3aec0",
   "metadata": {},
   "outputs": [],
   "source": [
    "path = untar_data(URLs.MNIST_SAMPLE)\n",
    "path.ls()"
   ]
  },
  {
   "cell_type": "code",
   "execution_count": 35,
   "id": "fd53f97b-5feb-4da2-a999-7a3d28a1ae87",
   "metadata": {},
   "outputs": [
    {
     "data": {
      "text/html": [
       "<style type=\"text/css\">\n",
       "#T_c361b_row0_col0, #T_c361b_row0_col1, #T_c361b_row0_col2, #T_c361b_row0_col3, #T_c361b_row0_col4, #T_c361b_row0_col5, #T_c361b_row0_col6, #T_c361b_row0_col7, #T_c361b_row0_col8, #T_c361b_row0_col9, #T_c361b_row0_col10, #T_c361b_row0_col11, #T_c361b_row0_col12, #T_c361b_row0_col13, #T_c361b_row0_col14, #T_c361b_row0_col15, #T_c361b_row0_col16, #T_c361b_row0_col17, #T_c361b_row1_col0, #T_c361b_row1_col1, #T_c361b_row1_col2, #T_c361b_row1_col3, #T_c361b_row1_col4, #T_c361b_row1_col5, #T_c361b_row1_col6, #T_c361b_row1_col7, #T_c361b_row1_col8, #T_c361b_row1_col9, #T_c361b_row1_col10, #T_c361b_row1_col11, #T_c361b_row1_col12, #T_c361b_row1_col13, #T_c361b_row1_col14, #T_c361b_row1_col15, #T_c361b_row1_col16, #T_c361b_row1_col17, #T_c361b_row2_col0, #T_c361b_row2_col1, #T_c361b_row2_col2, #T_c361b_row2_col3, #T_c361b_row2_col4, #T_c361b_row2_col5, #T_c361b_row2_col6, #T_c361b_row2_col7, #T_c361b_row2_col8, #T_c361b_row2_col9, #T_c361b_row2_col10, #T_c361b_row2_col11, #T_c361b_row2_col12, #T_c361b_row2_col13, #T_c361b_row2_col14, #T_c361b_row2_col15, #T_c361b_row2_col16, #T_c361b_row2_col17, #T_c361b_row3_col0, #T_c361b_row3_col1, #T_c361b_row3_col2, #T_c361b_row3_col3, #T_c361b_row3_col4, #T_c361b_row3_col16, #T_c361b_row3_col17, #T_c361b_row4_col0, #T_c361b_row4_col1, #T_c361b_row4_col2, #T_c361b_row4_col3, #T_c361b_row4_col4, #T_c361b_row4_col16, #T_c361b_row4_col17, #T_c361b_row5_col0, #T_c361b_row5_col1, #T_c361b_row5_col2, #T_c361b_row5_col3, #T_c361b_row5_col16, #T_c361b_row5_col17, #T_c361b_row6_col0, #T_c361b_row6_col1, #T_c361b_row6_col2, #T_c361b_row6_col3, #T_c361b_row6_col16, #T_c361b_row6_col17, #T_c361b_row7_col0, #T_c361b_row7_col1, #T_c361b_row7_col2, #T_c361b_row7_col3, #T_c361b_row7_col16, #T_c361b_row7_col17, #T_c361b_row8_col0, #T_c361b_row8_col1, #T_c361b_row8_col2, #T_c361b_row8_col3, #T_c361b_row8_col8, #T_c361b_row8_col9, #T_c361b_row8_col10, #T_c361b_row8_col15, #T_c361b_row8_col16, #T_c361b_row8_col17, #T_c361b_row9_col0, #T_c361b_row9_col1, #T_c361b_row9_col2, #T_c361b_row9_col3, #T_c361b_row9_col8, #T_c361b_row9_col9, #T_c361b_row9_col15, #T_c361b_row9_col16, #T_c361b_row9_col17, #T_c361b_row10_col0, #T_c361b_row10_col1, #T_c361b_row10_col2, #T_c361b_row10_col3, #T_c361b_row10_col8, #T_c361b_row10_col9, #T_c361b_row10_col15, #T_c361b_row10_col16, #T_c361b_row10_col17 {\n",
       "  font-size: 6pt;\n",
       "  background-color: #ffffff;\n",
       "  color: #000000;\n",
       "}\n",
       "#T_c361b_row3_col5 {\n",
       "  font-size: 6pt;\n",
       "  background-color: #bbbbbb;\n",
       "  color: #000000;\n",
       "}\n",
       "#T_c361b_row3_col6, #T_c361b_row4_col7, #T_c361b_row4_col8, #T_c361b_row4_col9, #T_c361b_row4_col11, #T_c361b_row4_col14, #T_c361b_row4_col15, #T_c361b_row5_col7, #T_c361b_row5_col8, #T_c361b_row5_col9, #T_c361b_row5_col10, #T_c361b_row5_col11, #T_c361b_row5_col14, #T_c361b_row5_col15, #T_c361b_row6_col7, #T_c361b_row6_col8, #T_c361b_row6_col9, #T_c361b_row6_col10, #T_c361b_row6_col11, #T_c361b_row6_col14, #T_c361b_row6_col15, #T_c361b_row7_col9, #T_c361b_row7_col10, #T_c361b_row7_col11, #T_c361b_row7_col14, #T_c361b_row8_col4, #T_c361b_row8_col5, #T_c361b_row8_col6, #T_c361b_row8_col12, #T_c361b_row8_col13, #T_c361b_row10_col11 {\n",
       "  font-size: 6pt;\n",
       "  background-color: #000000;\n",
       "  color: #f1f1f1;\n",
       "}\n",
       "#T_c361b_row3_col7 {\n",
       "  font-size: 6pt;\n",
       "  background-color: #676767;\n",
       "  color: #f1f1f1;\n",
       "}\n",
       "#T_c361b_row3_col8, #T_c361b_row3_col14 {\n",
       "  font-size: 6pt;\n",
       "  background-color: #888888;\n",
       "  color: #f1f1f1;\n",
       "}\n",
       "#T_c361b_row3_col9 {\n",
       "  font-size: 6pt;\n",
       "  background-color: #eeeeee;\n",
       "  color: #000000;\n",
       "}\n",
       "#T_c361b_row3_col10 {\n",
       "  font-size: 6pt;\n",
       "  background-color: #f9f9f9;\n",
       "  color: #000000;\n",
       "}\n",
       "#T_c361b_row3_col11, #T_c361b_row3_col12, #T_c361b_row10_col10 {\n",
       "  font-size: 6pt;\n",
       "  background-color: #f4f4f4;\n",
       "  color: #000000;\n",
       "}\n",
       "#T_c361b_row3_col13 {\n",
       "  font-size: 6pt;\n",
       "  background-color: #d7d7d7;\n",
       "  color: #000000;\n",
       "}\n",
       "#T_c361b_row3_col15 {\n",
       "  font-size: 6pt;\n",
       "  background-color: #878787;\n",
       "  color: #f1f1f1;\n",
       "}\n",
       "#T_c361b_row4_col5, #T_c361b_row5_col5, #T_c361b_row6_col5, #T_c361b_row7_col5, #T_c361b_row9_col5, #T_c361b_row10_col5 {\n",
       "  font-size: 6pt;\n",
       "  background-color: #020202;\n",
       "  color: #f1f1f1;\n",
       "}\n",
       "#T_c361b_row4_col6, #T_c361b_row4_col12, #T_c361b_row4_col13, #T_c361b_row5_col6, #T_c361b_row5_col12, #T_c361b_row5_col13, #T_c361b_row6_col6, #T_c361b_row6_col12, #T_c361b_row6_col13, #T_c361b_row7_col4, #T_c361b_row7_col6, #T_c361b_row7_col12, #T_c361b_row7_col13, #T_c361b_row9_col6, #T_c361b_row9_col12, #T_c361b_row9_col13, #T_c361b_row10_col6, #T_c361b_row10_col12 {\n",
       "  font-size: 6pt;\n",
       "  background-color: #010101;\n",
       "  color: #f1f1f1;\n",
       "}\n",
       "#T_c361b_row4_col10 {\n",
       "  font-size: 6pt;\n",
       "  background-color: #323232;\n",
       "  color: #f1f1f1;\n",
       "}\n",
       "#T_c361b_row5_col4 {\n",
       "  font-size: 6pt;\n",
       "  background-color: #bababa;\n",
       "  color: #000000;\n",
       "}\n",
       "#T_c361b_row6_col4, #T_c361b_row9_col4, #T_c361b_row10_col4 {\n",
       "  font-size: 6pt;\n",
       "  background-color: #8f8f8f;\n",
       "  color: #f1f1f1;\n",
       "}\n",
       "#T_c361b_row7_col7 {\n",
       "  font-size: 6pt;\n",
       "  background-color: #242424;\n",
       "  color: #f1f1f1;\n",
       "}\n",
       "#T_c361b_row7_col8 {\n",
       "  font-size: 6pt;\n",
       "  background-color: #171717;\n",
       "  color: #f1f1f1;\n",
       "}\n",
       "#T_c361b_row7_col15 {\n",
       "  font-size: 6pt;\n",
       "  background-color: #484848;\n",
       "  color: #f1f1f1;\n",
       "}\n",
       "#T_c361b_row8_col7 {\n",
       "  font-size: 6pt;\n",
       "  background-color: #909090;\n",
       "  color: #f1f1f1;\n",
       "}\n",
       "#T_c361b_row8_col11 {\n",
       "  font-size: 6pt;\n",
       "  background-color: #dedede;\n",
       "  color: #000000;\n",
       "}\n",
       "#T_c361b_row8_col14 {\n",
       "  font-size: 6pt;\n",
       "  background-color: #0a0a0a;\n",
       "  color: #f1f1f1;\n",
       "}\n",
       "#T_c361b_row9_col7, #T_c361b_row10_col7 {\n",
       "  font-size: 6pt;\n",
       "  background-color: #585858;\n",
       "  color: #f1f1f1;\n",
       "}\n",
       "#T_c361b_row9_col10 {\n",
       "  font-size: 6pt;\n",
       "  background-color: #fdfdfd;\n",
       "  color: #000000;\n",
       "}\n",
       "#T_c361b_row9_col11 {\n",
       "  font-size: 6pt;\n",
       "  background-color: #5e5e5e;\n",
       "  color: #f1f1f1;\n",
       "}\n",
       "#T_c361b_row9_col14 {\n",
       "  font-size: 6pt;\n",
       "  background-color: #a2a2a2;\n",
       "  color: #f1f1f1;\n",
       "}\n",
       "#T_c361b_row10_col13 {\n",
       "  font-size: 6pt;\n",
       "  background-color: #1e1e1e;\n",
       "  color: #f1f1f1;\n",
       "}\n",
       "#T_c361b_row10_col14 {\n",
       "  font-size: 6pt;\n",
       "  background-color: #f7f7f7;\n",
       "  color: #000000;\n",
       "}\n",
       "</style>\n",
       "<table id=\"T_c361b\">\n",
       "  <thead>\n",
       "    <tr>\n",
       "      <th class=\"blank level0\" >&nbsp;</th>\n",
       "      <th id=\"T_c361b_level0_col0\" class=\"col_heading level0 col0\" >0</th>\n",
       "      <th id=\"T_c361b_level0_col1\" class=\"col_heading level0 col1\" >1</th>\n",
       "      <th id=\"T_c361b_level0_col2\" class=\"col_heading level0 col2\" >2</th>\n",
       "      <th id=\"T_c361b_level0_col3\" class=\"col_heading level0 col3\" >3</th>\n",
       "      <th id=\"T_c361b_level0_col4\" class=\"col_heading level0 col4\" >4</th>\n",
       "      <th id=\"T_c361b_level0_col5\" class=\"col_heading level0 col5\" >5</th>\n",
       "      <th id=\"T_c361b_level0_col6\" class=\"col_heading level0 col6\" >6</th>\n",
       "      <th id=\"T_c361b_level0_col7\" class=\"col_heading level0 col7\" >7</th>\n",
       "      <th id=\"T_c361b_level0_col8\" class=\"col_heading level0 col8\" >8</th>\n",
       "      <th id=\"T_c361b_level0_col9\" class=\"col_heading level0 col9\" >9</th>\n",
       "      <th id=\"T_c361b_level0_col10\" class=\"col_heading level0 col10\" >10</th>\n",
       "      <th id=\"T_c361b_level0_col11\" class=\"col_heading level0 col11\" >11</th>\n",
       "      <th id=\"T_c361b_level0_col12\" class=\"col_heading level0 col12\" >12</th>\n",
       "      <th id=\"T_c361b_level0_col13\" class=\"col_heading level0 col13\" >13</th>\n",
       "      <th id=\"T_c361b_level0_col14\" class=\"col_heading level0 col14\" >14</th>\n",
       "      <th id=\"T_c361b_level0_col15\" class=\"col_heading level0 col15\" >15</th>\n",
       "      <th id=\"T_c361b_level0_col16\" class=\"col_heading level0 col16\" >16</th>\n",
       "      <th id=\"T_c361b_level0_col17\" class=\"col_heading level0 col17\" >17</th>\n",
       "    </tr>\n",
       "  </thead>\n",
       "  <tbody>\n",
       "    <tr>\n",
       "      <th id=\"T_c361b_level0_row0\" class=\"row_heading level0 row0\" >0</th>\n",
       "      <td id=\"T_c361b_row0_col0\" class=\"data row0 col0\" >0.000000</td>\n",
       "      <td id=\"T_c361b_row0_col1\" class=\"data row0 col1\" >0.000000</td>\n",
       "      <td id=\"T_c361b_row0_col2\" class=\"data row0 col2\" >0.000000</td>\n",
       "      <td id=\"T_c361b_row0_col3\" class=\"data row0 col3\" >0.000000</td>\n",
       "      <td id=\"T_c361b_row0_col4\" class=\"data row0 col4\" >0.000000</td>\n",
       "      <td id=\"T_c361b_row0_col5\" class=\"data row0 col5\" >0.000000</td>\n",
       "      <td id=\"T_c361b_row0_col6\" class=\"data row0 col6\" >0.000000</td>\n",
       "      <td id=\"T_c361b_row0_col7\" class=\"data row0 col7\" >0.000000</td>\n",
       "      <td id=\"T_c361b_row0_col8\" class=\"data row0 col8\" >0.000000</td>\n",
       "      <td id=\"T_c361b_row0_col9\" class=\"data row0 col9\" >0.000000</td>\n",
       "      <td id=\"T_c361b_row0_col10\" class=\"data row0 col10\" >0.000000</td>\n",
       "      <td id=\"T_c361b_row0_col11\" class=\"data row0 col11\" >0.000000</td>\n",
       "      <td id=\"T_c361b_row0_col12\" class=\"data row0 col12\" >0.000000</td>\n",
       "      <td id=\"T_c361b_row0_col13\" class=\"data row0 col13\" >0.000000</td>\n",
       "      <td id=\"T_c361b_row0_col14\" class=\"data row0 col14\" >0.000000</td>\n",
       "      <td id=\"T_c361b_row0_col15\" class=\"data row0 col15\" >0.000000</td>\n",
       "      <td id=\"T_c361b_row0_col16\" class=\"data row0 col16\" >0.000000</td>\n",
       "      <td id=\"T_c361b_row0_col17\" class=\"data row0 col17\" >0.000000</td>\n",
       "    </tr>\n",
       "    <tr>\n",
       "      <th id=\"T_c361b_level0_row1\" class=\"row_heading level0 row1\" >1</th>\n",
       "      <td id=\"T_c361b_row1_col0\" class=\"data row1 col0\" >0.000000</td>\n",
       "      <td id=\"T_c361b_row1_col1\" class=\"data row1 col1\" >0.000000</td>\n",
       "      <td id=\"T_c361b_row1_col2\" class=\"data row1 col2\" >0.000000</td>\n",
       "      <td id=\"T_c361b_row1_col3\" class=\"data row1 col3\" >0.000000</td>\n",
       "      <td id=\"T_c361b_row1_col4\" class=\"data row1 col4\" >0.000000</td>\n",
       "      <td id=\"T_c361b_row1_col5\" class=\"data row1 col5\" >0.000000</td>\n",
       "      <td id=\"T_c361b_row1_col6\" class=\"data row1 col6\" >0.000000</td>\n",
       "      <td id=\"T_c361b_row1_col7\" class=\"data row1 col7\" >0.000000</td>\n",
       "      <td id=\"T_c361b_row1_col8\" class=\"data row1 col8\" >0.000000</td>\n",
       "      <td id=\"T_c361b_row1_col9\" class=\"data row1 col9\" >0.000000</td>\n",
       "      <td id=\"T_c361b_row1_col10\" class=\"data row1 col10\" >0.000000</td>\n",
       "      <td id=\"T_c361b_row1_col11\" class=\"data row1 col11\" >0.000000</td>\n",
       "      <td id=\"T_c361b_row1_col12\" class=\"data row1 col12\" >0.000000</td>\n",
       "      <td id=\"T_c361b_row1_col13\" class=\"data row1 col13\" >0.000000</td>\n",
       "      <td id=\"T_c361b_row1_col14\" class=\"data row1 col14\" >0.000000</td>\n",
       "      <td id=\"T_c361b_row1_col15\" class=\"data row1 col15\" >0.000000</td>\n",
       "      <td id=\"T_c361b_row1_col16\" class=\"data row1 col16\" >0.000000</td>\n",
       "      <td id=\"T_c361b_row1_col17\" class=\"data row1 col17\" >0.000000</td>\n",
       "    </tr>\n",
       "    <tr>\n",
       "      <th id=\"T_c361b_level0_row2\" class=\"row_heading level0 row2\" >2</th>\n",
       "      <td id=\"T_c361b_row2_col0\" class=\"data row2 col0\" >0.000000</td>\n",
       "      <td id=\"T_c361b_row2_col1\" class=\"data row2 col1\" >0.000000</td>\n",
       "      <td id=\"T_c361b_row2_col2\" class=\"data row2 col2\" >0.000000</td>\n",
       "      <td id=\"T_c361b_row2_col3\" class=\"data row2 col3\" >0.000000</td>\n",
       "      <td id=\"T_c361b_row2_col4\" class=\"data row2 col4\" >0.000000</td>\n",
       "      <td id=\"T_c361b_row2_col5\" class=\"data row2 col5\" >0.000000</td>\n",
       "      <td id=\"T_c361b_row2_col6\" class=\"data row2 col6\" >0.000000</td>\n",
       "      <td id=\"T_c361b_row2_col7\" class=\"data row2 col7\" >0.000000</td>\n",
       "      <td id=\"T_c361b_row2_col8\" class=\"data row2 col8\" >0.000000</td>\n",
       "      <td id=\"T_c361b_row2_col9\" class=\"data row2 col9\" >0.000000</td>\n",
       "      <td id=\"T_c361b_row2_col10\" class=\"data row2 col10\" >0.000000</td>\n",
       "      <td id=\"T_c361b_row2_col11\" class=\"data row2 col11\" >0.000000</td>\n",
       "      <td id=\"T_c361b_row2_col12\" class=\"data row2 col12\" >0.000000</td>\n",
       "      <td id=\"T_c361b_row2_col13\" class=\"data row2 col13\" >0.000000</td>\n",
       "      <td id=\"T_c361b_row2_col14\" class=\"data row2 col14\" >0.000000</td>\n",
       "      <td id=\"T_c361b_row2_col15\" class=\"data row2 col15\" >0.000000</td>\n",
       "      <td id=\"T_c361b_row2_col16\" class=\"data row2 col16\" >0.000000</td>\n",
       "      <td id=\"T_c361b_row2_col17\" class=\"data row2 col17\" >0.000000</td>\n",
       "    </tr>\n",
       "    <tr>\n",
       "      <th id=\"T_c361b_level0_row3\" class=\"row_heading level0 row3\" >3</th>\n",
       "      <td id=\"T_c361b_row3_col0\" class=\"data row3 col0\" >0.000000</td>\n",
       "      <td id=\"T_c361b_row3_col1\" class=\"data row3 col1\" >0.000000</td>\n",
       "      <td id=\"T_c361b_row3_col2\" class=\"data row3 col2\" >0.000000</td>\n",
       "      <td id=\"T_c361b_row3_col3\" class=\"data row3 col3\" >0.000000</td>\n",
       "      <td id=\"T_c361b_row3_col4\" class=\"data row3 col4\" >0.000000</td>\n",
       "      <td id=\"T_c361b_row3_col5\" class=\"data row3 col5\" >0.380392</td>\n",
       "      <td id=\"T_c361b_row3_col6\" class=\"data row3 col6\" >0.992157</td>\n",
       "      <td id=\"T_c361b_row3_col7\" class=\"data row3 col7\" >0.662745</td>\n",
       "      <td id=\"T_c361b_row3_col8\" class=\"data row3 col8\" >0.541176</td>\n",
       "      <td id=\"T_c361b_row3_col9\" class=\"data row3 col9\" >0.133333</td>\n",
       "      <td id=\"T_c361b_row3_col10\" class=\"data row3 col10\" >0.050980</td>\n",
       "      <td id=\"T_c361b_row3_col11\" class=\"data row3 col11\" >0.094118</td>\n",
       "      <td id=\"T_c361b_row3_col12\" class=\"data row3 col12\" >0.094118</td>\n",
       "      <td id=\"T_c361b_row3_col13\" class=\"data row3 col13\" >0.258824</td>\n",
       "      <td id=\"T_c361b_row3_col14\" class=\"data row3 col14\" >0.541176</td>\n",
       "      <td id=\"T_c361b_row3_col15\" class=\"data row3 col15\" >0.498039</td>\n",
       "      <td id=\"T_c361b_row3_col16\" class=\"data row3 col16\" >0.000000</td>\n",
       "      <td id=\"T_c361b_row3_col17\" class=\"data row3 col17\" >0.000000</td>\n",
       "    </tr>\n",
       "    <tr>\n",
       "      <th id=\"T_c361b_level0_row4\" class=\"row_heading level0 row4\" >4</th>\n",
       "      <td id=\"T_c361b_row4_col0\" class=\"data row4 col0\" >0.000000</td>\n",
       "      <td id=\"T_c361b_row4_col1\" class=\"data row4 col1\" >0.000000</td>\n",
       "      <td id=\"T_c361b_row4_col2\" class=\"data row4 col2\" >0.000000</td>\n",
       "      <td id=\"T_c361b_row4_col3\" class=\"data row4 col3\" >0.000000</td>\n",
       "      <td id=\"T_c361b_row4_col4\" class=\"data row4 col4\" >0.000000</td>\n",
       "      <td id=\"T_c361b_row4_col5\" class=\"data row4 col5\" >0.992157</td>\n",
       "      <td id=\"T_c361b_row4_col6\" class=\"data row4 col6\" >0.988235</td>\n",
       "      <td id=\"T_c361b_row4_col7\" class=\"data row4 col7\" >0.988235</td>\n",
       "      <td id=\"T_c361b_row4_col8\" class=\"data row4 col8\" >0.988235</td>\n",
       "      <td id=\"T_c361b_row4_col9\" class=\"data row4 col9\" >0.988235</td>\n",
       "      <td id=\"T_c361b_row4_col10\" class=\"data row4 col10\" >0.831373</td>\n",
       "      <td id=\"T_c361b_row4_col11\" class=\"data row4 col11\" >0.988235</td>\n",
       "      <td id=\"T_c361b_row4_col12\" class=\"data row4 col12\" >0.988235</td>\n",
       "      <td id=\"T_c361b_row4_col13\" class=\"data row4 col13\" >0.988235</td>\n",
       "      <td id=\"T_c361b_row4_col14\" class=\"data row4 col14\" >0.988235</td>\n",
       "      <td id=\"T_c361b_row4_col15\" class=\"data row4 col15\" >0.901961</td>\n",
       "      <td id=\"T_c361b_row4_col16\" class=\"data row4 col16\" >0.000000</td>\n",
       "      <td id=\"T_c361b_row4_col17\" class=\"data row4 col17\" >0.000000</td>\n",
       "    </tr>\n",
       "    <tr>\n",
       "      <th id=\"T_c361b_level0_row5\" class=\"row_heading level0 row5\" >5</th>\n",
       "      <td id=\"T_c361b_row5_col0\" class=\"data row5 col0\" >0.000000</td>\n",
       "      <td id=\"T_c361b_row5_col1\" class=\"data row5 col1\" >0.000000</td>\n",
       "      <td id=\"T_c361b_row5_col2\" class=\"data row5 col2\" >0.000000</td>\n",
       "      <td id=\"T_c361b_row5_col3\" class=\"data row5 col3\" >0.000000</td>\n",
       "      <td id=\"T_c361b_row5_col4\" class=\"data row5 col4\" >0.333333</td>\n",
       "      <td id=\"T_c361b_row5_col5\" class=\"data row5 col5\" >0.992157</td>\n",
       "      <td id=\"T_c361b_row5_col6\" class=\"data row5 col6\" >0.988235</td>\n",
       "      <td id=\"T_c361b_row5_col7\" class=\"data row5 col7\" >0.988235</td>\n",
       "      <td id=\"T_c361b_row5_col8\" class=\"data row5 col8\" >0.988235</td>\n",
       "      <td id=\"T_c361b_row5_col9\" class=\"data row5 col9\" >0.988235</td>\n",
       "      <td id=\"T_c361b_row5_col10\" class=\"data row5 col10\" >0.992157</td>\n",
       "      <td id=\"T_c361b_row5_col11\" class=\"data row5 col11\" >0.988235</td>\n",
       "      <td id=\"T_c361b_row5_col12\" class=\"data row5 col12\" >0.988235</td>\n",
       "      <td id=\"T_c361b_row5_col13\" class=\"data row5 col13\" >0.988235</td>\n",
       "      <td id=\"T_c361b_row5_col14\" class=\"data row5 col14\" >0.988235</td>\n",
       "      <td id=\"T_c361b_row5_col15\" class=\"data row5 col15\" >0.901961</td>\n",
       "      <td id=\"T_c361b_row5_col16\" class=\"data row5 col16\" >0.000000</td>\n",
       "      <td id=\"T_c361b_row5_col17\" class=\"data row5 col17\" >0.000000</td>\n",
       "    </tr>\n",
       "    <tr>\n",
       "      <th id=\"T_c361b_level0_row6\" class=\"row_heading level0 row6\" >6</th>\n",
       "      <td id=\"T_c361b_row6_col0\" class=\"data row6 col0\" >0.000000</td>\n",
       "      <td id=\"T_c361b_row6_col1\" class=\"data row6 col1\" >0.000000</td>\n",
       "      <td id=\"T_c361b_row6_col2\" class=\"data row6 col2\" >0.000000</td>\n",
       "      <td id=\"T_c361b_row6_col3\" class=\"data row6 col3\" >0.000000</td>\n",
       "      <td id=\"T_c361b_row6_col4\" class=\"data row6 col4\" >0.454902</td>\n",
       "      <td id=\"T_c361b_row6_col5\" class=\"data row6 col5\" >0.992157</td>\n",
       "      <td id=\"T_c361b_row6_col6\" class=\"data row6 col6\" >0.988235</td>\n",
       "      <td id=\"T_c361b_row6_col7\" class=\"data row6 col7\" >0.988235</td>\n",
       "      <td id=\"T_c361b_row6_col8\" class=\"data row6 col8\" >0.988235</td>\n",
       "      <td id=\"T_c361b_row6_col9\" class=\"data row6 col9\" >0.988235</td>\n",
       "      <td id=\"T_c361b_row6_col10\" class=\"data row6 col10\" >0.992157</td>\n",
       "      <td id=\"T_c361b_row6_col11\" class=\"data row6 col11\" >0.988235</td>\n",
       "      <td id=\"T_c361b_row6_col12\" class=\"data row6 col12\" >0.988235</td>\n",
       "      <td id=\"T_c361b_row6_col13\" class=\"data row6 col13\" >0.988235</td>\n",
       "      <td id=\"T_c361b_row6_col14\" class=\"data row6 col14\" >0.988235</td>\n",
       "      <td id=\"T_c361b_row6_col15\" class=\"data row6 col15\" >0.901961</td>\n",
       "      <td id=\"T_c361b_row6_col16\" class=\"data row6 col16\" >0.000000</td>\n",
       "      <td id=\"T_c361b_row6_col17\" class=\"data row6 col17\" >0.000000</td>\n",
       "    </tr>\n",
       "    <tr>\n",
       "      <th id=\"T_c361b_level0_row7\" class=\"row_heading level0 row7\" >7</th>\n",
       "      <td id=\"T_c361b_row7_col0\" class=\"data row7 col0\" >0.000000</td>\n",
       "      <td id=\"T_c361b_row7_col1\" class=\"data row7 col1\" >0.000000</td>\n",
       "      <td id=\"T_c361b_row7_col2\" class=\"data row7 col2\" >0.000000</td>\n",
       "      <td id=\"T_c361b_row7_col3\" class=\"data row7 col3\" >0.000000</td>\n",
       "      <td id=\"T_c361b_row7_col4\" class=\"data row7 col4\" >0.862745</td>\n",
       "      <td id=\"T_c361b_row7_col5\" class=\"data row7 col5\" >0.992157</td>\n",
       "      <td id=\"T_c361b_row7_col6\" class=\"data row7 col6\" >0.988235</td>\n",
       "      <td id=\"T_c361b_row7_col7\" class=\"data row7 col7\" >0.866667</td>\n",
       "      <td id=\"T_c361b_row7_col8\" class=\"data row7 col8\" >0.909804</td>\n",
       "      <td id=\"T_c361b_row7_col9\" class=\"data row7 col9\" >0.988235</td>\n",
       "      <td id=\"T_c361b_row7_col10\" class=\"data row7 col10\" >0.992157</td>\n",
       "      <td id=\"T_c361b_row7_col11\" class=\"data row7 col11\" >0.988235</td>\n",
       "      <td id=\"T_c361b_row7_col12\" class=\"data row7 col12\" >0.988235</td>\n",
       "      <td id=\"T_c361b_row7_col13\" class=\"data row7 col13\" >0.988235</td>\n",
       "      <td id=\"T_c361b_row7_col14\" class=\"data row7 col14\" >0.988235</td>\n",
       "      <td id=\"T_c361b_row7_col15\" class=\"data row7 col15\" >0.698039</td>\n",
       "      <td id=\"T_c361b_row7_col16\" class=\"data row7 col16\" >0.000000</td>\n",
       "      <td id=\"T_c361b_row7_col17\" class=\"data row7 col17\" >0.000000</td>\n",
       "    </tr>\n",
       "    <tr>\n",
       "      <th id=\"T_c361b_level0_row8\" class=\"row_heading level0 row8\" >8</th>\n",
       "      <td id=\"T_c361b_row8_col0\" class=\"data row8 col0\" >0.000000</td>\n",
       "      <td id=\"T_c361b_row8_col1\" class=\"data row8 col1\" >0.000000</td>\n",
       "      <td id=\"T_c361b_row8_col2\" class=\"data row8 col2\" >0.000000</td>\n",
       "      <td id=\"T_c361b_row8_col3\" class=\"data row8 col3\" >0.000000</td>\n",
       "      <td id=\"T_c361b_row8_col4\" class=\"data row8 col4\" >0.866667</td>\n",
       "      <td id=\"T_c361b_row8_col5\" class=\"data row8 col5\" >1.000000</td>\n",
       "      <td id=\"T_c361b_row8_col6\" class=\"data row8 col6\" >0.992157</td>\n",
       "      <td id=\"T_c361b_row8_col7\" class=\"data row8 col7\" >0.513726</td>\n",
       "      <td id=\"T_c361b_row8_col8\" class=\"data row8 col8\" >0.000000</td>\n",
       "      <td id=\"T_c361b_row8_col9\" class=\"data row8 col9\" >0.000000</td>\n",
       "      <td id=\"T_c361b_row8_col10\" class=\"data row8 col10\" >0.000000</td>\n",
       "      <td id=\"T_c361b_row8_col11\" class=\"data row8 col11\" >0.223529</td>\n",
       "      <td id=\"T_c361b_row8_col12\" class=\"data row8 col12\" >0.992157</td>\n",
       "      <td id=\"T_c361b_row8_col13\" class=\"data row8 col13\" >0.992157</td>\n",
       "      <td id=\"T_c361b_row8_col14\" class=\"data row8 col14\" >0.952941</td>\n",
       "      <td id=\"T_c361b_row8_col15\" class=\"data row8 col15\" >0.000000</td>\n",
       "      <td id=\"T_c361b_row8_col16\" class=\"data row8 col16\" >0.000000</td>\n",
       "      <td id=\"T_c361b_row8_col17\" class=\"data row8 col17\" >0.000000</td>\n",
       "    </tr>\n",
       "    <tr>\n",
       "      <th id=\"T_c361b_level0_row9\" class=\"row_heading level0 row9\" >9</th>\n",
       "      <td id=\"T_c361b_row9_col0\" class=\"data row9 col0\" >0.000000</td>\n",
       "      <td id=\"T_c361b_row9_col1\" class=\"data row9 col1\" >0.000000</td>\n",
       "      <td id=\"T_c361b_row9_col2\" class=\"data row9 col2\" >0.000000</td>\n",
       "      <td id=\"T_c361b_row9_col3\" class=\"data row9 col3\" >0.000000</td>\n",
       "      <td id=\"T_c361b_row9_col4\" class=\"data row9 col4\" >0.454902</td>\n",
       "      <td id=\"T_c361b_row9_col5\" class=\"data row9 col5\" >0.992157</td>\n",
       "      <td id=\"T_c361b_row9_col6\" class=\"data row9 col6\" >0.988235</td>\n",
       "      <td id=\"T_c361b_row9_col7\" class=\"data row9 col7\" >0.717647</td>\n",
       "      <td id=\"T_c361b_row9_col8\" class=\"data row9 col8\" >0.000000</td>\n",
       "      <td id=\"T_c361b_row9_col9\" class=\"data row9 col9\" >0.000000</td>\n",
       "      <td id=\"T_c361b_row9_col10\" class=\"data row9 col10\" >0.019608</td>\n",
       "      <td id=\"T_c361b_row9_col11\" class=\"data row9 col11\" >0.698039</td>\n",
       "      <td id=\"T_c361b_row9_col12\" class=\"data row9 col12\" >0.988235</td>\n",
       "      <td id=\"T_c361b_row9_col13\" class=\"data row9 col13\" >0.988235</td>\n",
       "      <td id=\"T_c361b_row9_col14\" class=\"data row9 col14\" >0.458824</td>\n",
       "      <td id=\"T_c361b_row9_col15\" class=\"data row9 col15\" >0.000000</td>\n",
       "      <td id=\"T_c361b_row9_col16\" class=\"data row9 col16\" >0.000000</td>\n",
       "      <td id=\"T_c361b_row9_col17\" class=\"data row9 col17\" >0.000000</td>\n",
       "    </tr>\n",
       "    <tr>\n",
       "      <th id=\"T_c361b_level0_row10\" class=\"row_heading level0 row10\" >10</th>\n",
       "      <td id=\"T_c361b_row10_col0\" class=\"data row10 col0\" >0.000000</td>\n",
       "      <td id=\"T_c361b_row10_col1\" class=\"data row10 col1\" >0.000000</td>\n",
       "      <td id=\"T_c361b_row10_col2\" class=\"data row10 col2\" >0.000000</td>\n",
       "      <td id=\"T_c361b_row10_col3\" class=\"data row10 col3\" >0.000000</td>\n",
       "      <td id=\"T_c361b_row10_col4\" class=\"data row10 col4\" >0.454902</td>\n",
       "      <td id=\"T_c361b_row10_col5\" class=\"data row10 col5\" >0.992157</td>\n",
       "      <td id=\"T_c361b_row10_col6\" class=\"data row10 col6\" >0.988235</td>\n",
       "      <td id=\"T_c361b_row10_col7\" class=\"data row10 col7\" >0.717647</td>\n",
       "      <td id=\"T_c361b_row10_col8\" class=\"data row10 col8\" >0.000000</td>\n",
       "      <td id=\"T_c361b_row10_col9\" class=\"data row10 col9\" >0.000000</td>\n",
       "      <td id=\"T_c361b_row10_col10\" class=\"data row10 col10\" >0.094118</td>\n",
       "      <td id=\"T_c361b_row10_col11\" class=\"data row10 col11\" >0.988235</td>\n",
       "      <td id=\"T_c361b_row10_col12\" class=\"data row10 col12\" >0.988235</td>\n",
       "      <td id=\"T_c361b_row10_col13\" class=\"data row10 col13\" >0.890196</td>\n",
       "      <td id=\"T_c361b_row10_col14\" class=\"data row10 col14\" >0.062745</td>\n",
       "      <td id=\"T_c361b_row10_col15\" class=\"data row10 col15\" >0.000000</td>\n",
       "      <td id=\"T_c361b_row10_col16\" class=\"data row10 col16\" >0.000000</td>\n",
       "      <td id=\"T_c361b_row10_col17\" class=\"data row10 col17\" >0.000000</td>\n",
       "    </tr>\n",
       "  </tbody>\n",
       "</table>\n"
      ],
      "text/plain": [
       "<pandas.io.formats.style.Styler at 0x7542069d1870>"
      ]
     },
     "execution_count": 35,
     "metadata": {},
     "output_type": "execute_result"
    }
   ],
   "source": [
    "import pandas as pd\n",
    "a_seven = TF.to_tensor(Image.open((path/'train'/'7').ls()[0])).squeeze()\n",
    "df = pd.DataFrame(a_seven[4:15,4:22])\n",
    "df.style.set_properties(**{'font-size':'6pt'}).background_gradient('Greys')"
   ]
  },
  {
   "cell_type": "code",
   "execution_count": 37,
   "id": "a3e746e4-3c47-46f0-b9b2-b9a8d19bd506",
   "metadata": {},
   "outputs": [],
   "source": [
    "train_path = path/'train'\n",
    "three_path = train_path/'3'\n",
    "seven_path = train_path/'7'\n",
    "valid_path = path/'valid'"
   ]
  },
  {
   "cell_type": "code",
   "execution_count": 41,
   "id": "9fd341a0-d2bb-4cea-871d-9046b7e9ffd6",
   "metadata": {},
   "outputs": [],
   "source": [
    "def avg_img(dir): return torch.stack([TF.to_tensor(Image.open(p)).squeeze() for p in dir.ls()]).mean(0)\n",
    "avg_three = stacked_threes.mean(0)\n",
    "avg_seven = stacked_seven"
   ]
  },
  {
   "cell_type": "code",
   "execution_count": 54,
   "id": "e5864934-3ea5-4f5b-805d-5069d09c77ae",
   "metadata": {},
   "outputs": [
    {
     "data": {
      "text/plain": [
       "<matplotlib.image.AxesImage at 0x7541fc177910>"
      ]
     },
     "execution_count": 54,
     "metadata": {},
     "output_type": "execute_result"
    },
    {
     "data": {
      "image/png": "[encoded data removed]",
      "text/plain": [
       "<Figure size 640x480 with 1 Axes>"
      ]
     },
     "metadata": {},
     "output_type": "display_data"
    }
   ],
   "source": [
    "plt.imshow(avg_three) # or show_image(avg_three)"
   ]
  },
  {
   "cell_type": "code",
   "execution_count": 56,
   "id": "17845c20-2e25-4cf8-a934-3d2731eab365",
   "metadata": {},
   "outputs": [
    {
     "data": {
      "text/plain": [
       "<matplotlib.image.AxesImage at 0x7541fc17da50>"
      ]
     },
     "execution_count": 56,
     "metadata": {},
     "output_type": "execute_result"
    },
    {
     "data": {
      "image/png": "[encoded data removed]",
      "text/plain": [
       "<Figure size 640x480 with 1 Axes>"
      ]
     },
     "metadata": {},
     "output_type": "display_data"
    }
   ],
   "source": [
    "plt.imshow(avg_seven)"
   ]
  },
  {
   "cell_type": "code",
   "execution_count": 85,
   "id": "c615ef95-feb7-46b0-afad-0c8791546a83",
   "metadata": {},
   "outputs": [],
   "source": [
    "def diff(a, b): return (a-b).abs().mean((-1, -2)) \n",
    "# calculate mean over last and second to last dimension, think bcs if we get a single image we end up with a single value, but if we have list of img (ndims=3) we end up with a list of diffs\n",
    "def is_three(a): return diff(a, avg_seven) > diff(a, avg_three)"
   ]
  },
  {
   "cell_type": "code",
   "execution_count": 60,
   "id": "e15e3471-1afb-4011-ad0e-98cd418679f5",
   "metadata": {},
   "outputs": [
    {
     "data": {
      "text/plain": [
       "(tensor(0.1154), tensor(0.1311))"
      ]
     },
     "execution_count": 60,
     "metadata": {},
     "output_type": "execute_result"
    }
   ],
   "source": [
    "seven_diff = diff(random_seven, avg_seven)\n",
    "three_diff = diff(random_seven, avg_three)\n",
    "is_three(random_seven).int()"
   ]
  },
  {
   "cell_type": "code",
   "execution_count": 78,
   "id": "c75fff95-92e5-4fea-b5e7-e332c2490909",
   "metadata": {
    "scrolled": true
   },
   "outputs": [],
   "source": [
    "dirs = '3', '7'\n",
    "valid_threes = []\n",
    "valid_sevens = []\n",
    "for d in dirs:\n",
    "    p = valid_path/d\n",
    "    for impath in p.ls():\n",
    "        elem = TF.to_tensor(Image.open(impath)).squeeze()\n",
    "        if d == '3':\n",
    "            valid_threes.append(elem)\n",
    "        else:\n",
    "            valid_sevens.append(elem)\n",
    "            \n"
   ]
  },
  {
   "cell_type": "code",
   "execution_count": 79,
   "id": "5563c40c-e287-4be7-8554-a23187c4e823",
   "metadata": {},
   "outputs": [],
   "source": [
    "accuracy3 = torch.tensor([(is_three(i) == 1) for i in valid_threes]).float().mean()\n",
    "accuracy7 = torch.tensor([(is_three(i) == 0) for i in valid_sevens]).float().mean()\n",
    "accuracy3, accuracy7"
   ]
  },
  {
   "cell_type": "code",
   "execution_count": 84,
   "id": "a604cfeb-27a3-43d2-8d3c-699b34e81eae",
   "metadata": {},
   "outputs": [],
   "source": [
    "\n",
    "valid_threes = torch.stack([TF.to_tensor(Image.open(p)).squeeze() for p in (valid_path/'3').ls()])\n",
    "valid_threes = valid_threes.float()/255\n",
    "\n",
    "valid_sevens = torch.stack([TF.to_tensor(Image.open(p)).squeeze() for p in (valid_path/'7').ls()])\n",
    "valid_sevens = valid_sevens.float()/255"
   ]
  },
  {
   "cell_type": "code",
   "execution_count": 86,
   "id": "dc180ce7-9df6-4be4-bb09-fdf6e2c267a5",
   "metadata": {},
   "outputs": [
    {
     "data": {
      "text/plain": [
       "torch.Size([1010])"
      ]
     },
     "execution_count": 86,
     "metadata": {},
     "output_type": "execute_result"
    }
   ],
   "source": [
    "diff3 = diff(valid_threes, avg_three)\n",
    "diff3.shape"
   ]
  },
  {
   "cell_type": "code",
   "execution_count": 92,
   "id": "500f15ef-8025-42d6-afc3-0127ad441543",
   "metadata": {},
   "outputs": [],
   "source": [
    "avg_three = avg_three.float()/255"
   ]
  },
  {
   "cell_type": "code",
   "execution_count": 94,
   "id": "03381e2a-3428-42e3-ab17-866c665e12ec",
   "metadata": {},
   "outputs": [
    {
     "data": {
      "text/plain": [
       "tensor(0.9168)"
      ]
     },
     "execution_count": 94,
     "metadata": {},
     "output_type": "execute_result"
    }
   ],
   "source": [
    "accuracy3 = is_three(valid_threes).float().mean()\n",
    "accuracy3"
   ]
  },
  {
   "cell_type": "code",
   "execution_count": 93,
   "id": "b5ec331e-7037-4c34-beb0-4823af2347e4",
   "metadata": {},
   "outputs": [],
   "source": [
    "avg_seven = avg_seven.float()/255"
   ]
  },
  {
   "cell_type": "code",
   "execution_count": 96,
   "id": "b449127a-a3a3-49ab-8553-d62521f9eab8",
   "metadata": {},
   "outputs": [],
   "source": [
    "accuracy7 = (1-is_three(valid_sevens).float()).mean()"
   ]
  },
  {
   "cell_type": "code",
   "execution_count": 97,
   "id": "729cd7ac-fe99-466e-a12a-df438e6f5924",
   "metadata": {},
   "outputs": [
    {
     "data": {
      "text/plain": [
       "tensor(0.9854)"
      ]
     },
     "execution_count": 97,
     "metadata": {},
     "output_type": "execute_result"
    }
   ],
   "source": [
    "accuracy7"
   ]
  },
  {
   "cell_type": "code",
   "execution_count": 99,
   "id": "2e0fcc6f-616f-402d-bc9a-d58bd151efd3",
   "metadata": {},
   "outputs": [
    {
     "data": {
      "text/plain": [
       "tensor(0.9514)"
      ]
     },
     "execution_count": 99,
     "metadata": {},
     "output_type": "execute_result"
    }
   ],
   "source": [
    "total_accuracy = (accuracy7*valid_sevens.shape[0] + accuracy3 * valid_threes.shape[0])/(valid_sevens.shape[0] + valid_threes.shape[0])\n",
    "total_accuracy"
   ]
  },
  {
   "cell_type": "code",
   "execution_count": 100,
   "id": "c2a369b1-6995-4eb0-a53b-d2249542193a",
   "metadata": {},
   "outputs": [],
   "source": [
    "weights = torch.randn((28*28, 1))"
   ]
  },
  {
   "cell_type": "code",
   "execution_count": 101,
   "id": "853d90f8-ea38-431a-81b0-b3fde66d264d",
   "metadata": {},
   "outputs": [],
   "source": [
    "stacked_threes = torch.stack([TF.to_tensor(Image.open(p)).squeeze() for p in three_path.ls()])\n",
    "stacked_sevens = torch.stack([TF.to_tensor(Image.open(p)).squeeze() for p in seven_path.ls()])\n"
   ]
  },
  {
   "cell_type": "code",
   "execution_count": 102,
   "id": "713a4d62-51a7-434a-80cf-1abe54b3f60c",
   "metadata": {},
   "outputs": [],
   "source": [
    "trainset = torch.cat([stacked_threes, stacked_sevens]).view(-1, 28*28)"
   ]
  },
  {
   "cell_type": "code",
   "execution_count": 106,
   "id": "765187d4-1aff-47e4-99aa-bc74ce2dcd17",
   "metadata": {},
   "outputs": [],
   "source": [
    "y = torch.tensor([1]*stacked_threes.shape[0] + [0]*stacked_sevens.shape[0]) #.unsqueeze(1)"
   ]
  },
  {
   "cell_type": "code",
   "execution_count": 108,
   "id": "130031f0-b1e1-41f7-8936-0dcf8da7fd4c",
   "metadata": {},
   "outputs": [],
   "source": [
    "dset = list(zip(trainset, y))"
   ]
  },
  {
   "cell_type": "code",
   "execution_count": 109,
   "id": "d50f3288-3e90-4105-89f8-b15e66076c73",
   "metadata": {},
   "outputs": [],
   "source": [
    "x, my = dset[0]"
   ]
  },
  {
   "cell_type": "code",
   "execution_count": 110,
   "id": "a37b0802-4c05-437e-b573-d7b938dd9967",
   "metadata": {},
   "outputs": [
    {
     "data": {
      "text/plain": [
       "(torch.Size([784]), tensor(1))"
      ]
     },
     "execution_count": 110,
     "metadata": {},
     "output_type": "execute_result"
    }
   ],
   "source": [
    "x.shape, my"
   ]
  },
  {
   "cell_type": "markdown",
   "id": "67e525d5-9c09-4182-977a-a88d464e6d07",
   "metadata": {},
   "source": [
    "still need: \n",
    "- function to calculate loss ? \n",
    "- use Dataloader to get batch\n",
    "- use sigmoid to make sure your output is between 0 and 1"
   ]
  },
  {
   "cell_type": "code",
   "execution_count": 1,
   "id": "689e27ab-a438-47fd-b681-8441d4ed5941",
   "metadata": {},
   "outputs": [
    {
     "ename": "NameError",
     "evalue": "name 'torch' is not defined",
     "output_type": "error",
     "traceback": [
      "\u001b[0;31m---------------------------------------------------------------------------\u001b[0m",
      "\u001b[0;31mNameError\u001b[0m                                 Traceback (most recent call last)",
      "Cell \u001b[0;32mIn[1], line 1\u001b[0m\n\u001b[0;32m----> 1\u001b[0m bias \u001b[38;5;241m=\u001b[39m \u001b[43mtorch\u001b[49m\u001b[38;5;241m.\u001b[39mrandn((\u001b[38;5;241m1\u001b[39m,\u001b[38;5;241m1\u001b[39m))\n\u001b[1;32m      2\u001b[0m \u001b[38;5;28;01mdef\u001b[39;00m \u001b[38;5;21mpredict\u001b[39m(x): \u001b[38;5;28;01mreturn\u001b[39;00m x\u001b[38;5;129m@weights\u001b[39m \u001b[38;5;241m+\u001b[39m bias\n\u001b[1;32m      4\u001b[0m \u001b[38;5;28;01mdef\u001b[39;00m \u001b[38;5;21msigmoid\u001b[39m(x): \u001b[38;5;28;01mreturn\u001b[39;00m \u001b[38;5;241m1\u001b[39m\u001b[38;5;241m/\u001b[39m(\u001b[38;5;241m1\u001b[39m\u001b[38;5;241m+\u001b[39mtorch\u001b[38;5;241m.\u001b[39mexp(\u001b[38;5;241m-\u001b[39mx))\n",
      "\u001b[0;31mNameError\u001b[0m: name 'torch' is not defined"
     ]
    }
   ],
   "source": [
    "bias = torch.randn((1,1))\n",
    "def predict(x): return x@weights + bias\n",
    "\n",
    "def sigmoid(x): return 1/(1+torch.exp(-x))"
   ]
  },
  {
   "cell_type": "code",
   "execution_count": null,
   "id": "cf4a9859-9404-4037-9c3e-5fe39899407b",
   "metadata": {},
   "outputs": [],
   "source": []
  }
 ],
 "metadata": {
  "kernelspec": {
   "display_name": "Python 3 (ipykernel)",
   "language": "python",
   "name": "python3"
  },
  "language_info": {
   "codemirror_mode": {
    "name": "ipython",
    "version": 3
   },
   "file_extension": ".py",
   "mimetype": "text/x-python",
   "name": "python",
   "nbconvert_exporter": "python",
   "pygments_lexer": "ipython3",
   "version": "3.10.12"
  }
 },
 "nbformat": 4,
 "nbformat_minor": 5
}
