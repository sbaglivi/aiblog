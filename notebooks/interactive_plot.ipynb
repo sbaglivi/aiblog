{
 "cells": [
  {
   "cell_type": "code",
   "execution_count": 1,
   "id": "089634ba-5b59-45b7-8096-f7356a67851e",
   "metadata": {},
   "outputs": [],
   "source": [
    "import matplotlib\n",
    "import matplotlib.pyplot as plt\n",
    "import numpy as np\n",
    "import torch"
   ]
  },
  {
   "cell_type": "code",
   "execution_count": 2,
   "id": "4707ec34-1d2c-458b-a576-7e07097ff426",
   "metadata": {},
   "outputs": [],
   "source": [
    "def q(a,b,c,x): return a*x**2 + b*x + c"
   ]
  },
  {
   "cell_type": "code",
   "execution_count": 3,
   "id": "f6bf4590-f465-4d57-b72c-20a39bba5174",
   "metadata": {},
   "outputs": [],
   "source": [
    "from functools import partial"
   ]
  },
  {
   "cell_type": "code",
   "execution_count": 4,
   "id": "b16ae760-1cc9-4a2d-9c61-24ed188862cf",
   "metadata": {},
   "outputs": [],
   "source": [
    "def plot_function(f):\n",
    "    x = np.linspace(-10, 10, 50)\n",
    "    y = f(x)\n",
    "    plt.plot(x, y)"
   ]
  },
  {
   "cell_type": "code",
   "execution_count": 55,
   "id": "e5f3b50a-7f41-43b6-9865-11d767c009dc",
   "metadata": {},
   "outputs": [],
   "source": [
    "time = torch.tensor(np.linspace(0, 20, 20))\n",
    "f = partial(q, 1, -2, 0)\n",
    "y = f(time)\n",
    "noise = 5 * torch.randn((len(time),))\n",
    "speed = (noise + y).max(torch.tensor(0.0))\n",
    "speed[0] = 0.0"
   ]
  },
  {
   "cell_type": "code",
   "execution_count": 56,
   "id": "a48d1b36-6026-48cc-96d4-a378bac07223",
   "metadata": {},
   "outputs": [
    {
     "data": {
      "text/plain": [
       "Text(0.5, 1.0, 'Speed over time')"
      ]
     },
     "execution_count": 56,
     "metadata": {},
     "output_type": "execute_result"
    },
    {
     "data": {
      "image/png": "[encoded data removed]",
      "text/plain": [
       "<Figure size 640x480 with 1 Axes>"
      ]
     },
     "metadata": {},
     "output_type": "display_data"
    }
   ],
   "source": [
    "fig, ax = plt.subplots()\n",
    "line, = ax.plot(time, speed)\n",
    "ax.set_xlabel('time')\n",
    "ax.set_ylabel('speed')\n",
    "ax.set_title('Speed over time')"
   ]
  },
  {
   "cell_type": "code",
   "execution_count": 5,
   "id": "c3ff6ae7-4b50-4247-9623-2483a4ad3be0",
   "metadata": {},
   "outputs": [],
   "source": [
    "plt.rc('figure', dpi=90)\n",
    "\n",
    "def plot_function(f, title=None, min=-2.1, max=2.1, color='r', ylim=None):\n",
    "    x = torch.linspace(min,max, 100)[:,None]\n",
    "    if ylim: plt.ylim(ylim)\n",
    "    plt.plot(x, f(x), color)\n",
    "    if title is not None: plt.title(title)"
   ]
  },
  {
   "cell_type": "code",
   "execution_count": 6,
   "id": "3929a5b7-1e2a-43ef-89b2-67f6d3f9404f",
   "metadata": {},
   "outputs": [],
   "source": [
    "def noise(x, scale): return np.random.normal(scale=scale, size=x.shape)\n",
    "def add_noise(x, mult, add): return x * (1+noise(x,mult)) + noise(x,add)"
   ]
  },
  {
   "cell_type": "code",
   "execution_count": 7,
   "id": "d7c663d2-f866-4d5e-87c2-af775d8e707d",
   "metadata": {},
   "outputs": [],
   "source": [
    "def f(x): return 3*x**2 + 2*x + 1\n",
    "x = torch.linspace(-2, 2, steps=20)[:,None]\n",
    "y = add_noise(f(x), 0.15, 1.5)"
   ]
  },
  {
   "cell_type": "code",
   "execution_count": 8,
   "id": "3c970844-cc5b-4d71-8a01-1174ca47592f",
   "metadata": {},
   "outputs": [],
   "source": [
    "from ipywidgets import *"
   ]
  },
  {
   "cell_type": "code",
   "execution_count": 9,
   "id": "90ad9a29-5425-45d6-b688-2d350b069559",
   "metadata": {
    "scrolled": true
   },
   "outputs": [
    {
     "data": {
      "application/vnd.jupyter.widget-view+json": {
       "model_id": "083ac9b111374c4d882b5fb0ac955fbb",
       "version_major": 2,
       "version_minor": 0
      },
      "text/plain": [
       "interactive(children=(FloatSlider(value=1.1, description='a', max=3.3000000000000003, min=-1.1), FloatSlider(v…"
      ]
     },
     "metadata": {},
     "output_type": "display_data"
    }
   ],
   "source": [
    "@interact(a=1.1, b=1.1, c=1.1)\n",
    "def plot_quad(a, b, c):\n",
    "    plt.scatter(x,y)\n",
    "    plot_function(partial(q, a,b,c), ylim=(-3,13))"
   ]
  },
  {
   "cell_type": "code",
   "execution_count": 43,
   "id": "73bcea61-7919-4786-aae7-00ccebe73509",
   "metadata": {},
   "outputs": [],
   "source": [
    "def mse(pred, labels, item=True):\n",
    "    se = ((pred - labels)**2).mean()\n",
    "    return se.item() if item else se"
   ]
  },
  {
   "cell_type": "code",
   "execution_count": 13,
   "id": "d838c9be-1e22-416e-a70c-080d61578b58",
   "metadata": {},
   "outputs": [],
   "source": [
    "f = partial(q, 1, 1, 1)\n",
    "sqe = (f(x) - y)**2"
   ]
  },
  {
   "cell_type": "code",
   "execution_count": 25,
   "id": "99951cf2-bb94-454d-9d5e-001f98e0e9ba",
   "metadata": {},
   "outputs": [
    {
     "data": {
      "text/plain": [
       "tensor(13.6295, dtype=torch.float64)"
      ]
     },
     "execution_count": 25,
     "metadata": {},
     "output_type": "execute_result"
    }
   ],
   "source": [
    "((f(x)-y)**2).mean()"
   ]
  },
  {
   "cell_type": "code",
   "execution_count": 96,
   "id": "ceec1bfc-2841-4042-864a-685a6849be2e",
   "metadata": {},
   "outputs": [
    {
     "data": {
      "application/vnd.jupyter.widget-view+json": {
       "model_id": "9335cd911d2641829bd5fc06d32976ce",
       "version_major": 2,
       "version_minor": 0
      },
      "text/plain": [
       "interactive(children=(FloatSlider(value=1.1, description='a', max=3.3000000000000003, min=-1.1), FloatSlider(v…"
      ]
     },
     "metadata": {},
     "output_type": "display_data"
    }
   ],
   "source": [
    "@interact(a=1.1, b=1.1, c=1.1)\n",
    "def plot_quad(a, b, c):\n",
    "    plt.scatter(x,y)\n",
    "    f = partial(q, a,b,c)\n",
    "    plot_function(f, ylim=(-3,13), title=mse(f(x), y))"
   ]
  },
  {
   "cell_type": "code",
   "execution_count": 124,
   "id": "40f81ad2-4a7c-4eac-9078-16e13bf6c32b",
   "metadata": {},
   "outputs": [],
   "source": [
    "# weights = torch.randn(3).requires_grad_()\n",
    "weights = torch.tensor([2.6, 1.5, 1.2]).requires_grad_()\n",
    "def f(w, x): return x**2*w[0] + x*w[1] + w[2]"
   ]
  },
  {
   "cell_type": "code",
   "execution_count": 123,
   "id": "de2f6be8-8dc7-45d8-b963-4e67b6a87309",
   "metadata": {},
   "outputs": [
    {
     "data": {
      "text/plain": [
       "tensor(78.5000, grad_fn=<AddBackward0>)"
      ]
     },
     "execution_count": 123,
     "metadata": {},
     "output_type": "execute_result"
    }
   ],
   "source": [
    "f(weights, 5)"
   ]
  },
  {
   "cell_type": "code",
   "execution_count": 129,
   "id": "ef1264d4-2edd-4824-af75-2181057a6e8d",
   "metadata": {},
   "outputs": [
    {
     "name": "stdout",
     "output_type": "stream",
     "text": [
      "0 1.9257010423639997\n",
      "100 1.9257007564709832\n",
      "200 1.9257003216835447\n",
      "300 1.9256999705553355\n",
      "400 1.9256991464339133\n",
      "500 1.9256988260907906\n",
      "600 1.9256983210555796\n",
      "700 1.925698083525107\n",
      "800 1.9256977687568035\n",
      "900 1.925697447561204\n"
     ]
    }
   ],
   "source": [
    "for i in range(1000):\n",
    "    preds = f(weights, x)\n",
    "    loss = mse(preds, y, item=False)\n",
    "    loss.backward()\n",
    "    with torch.no_grad():\n",
    "        weights -= 0.0001 * weights.grad\n",
    "    weights.grad = None\n",
    "    if i % 100 == 0:\n",
    "        print(i, loss.item())"
   ]
  },
  {
   "cell_type": "code",
   "execution_count": 127,
   "id": "d02a613a-d099-4780-876f-89b17b262bbc",
   "metadata": {},
   "outputs": [
    {
     "name": "stdout",
     "output_type": "stream",
     "text": [
      "tensor([2.6524, 1.4740, 1.1451], requires_grad=True)\n"
     ]
    },
    {
     "data": {
      "image/png": "[encoded data removed]",
      "text/plain": [
       "<Figure size 576x432 with 1 Axes>"
      ]
     },
     "metadata": {},
     "output_type": "display_data"
    }
   ],
   "source": [
    "with torch.no_grad():\n",
    "    plt.scatter(x, y)\n",
    "\n",
    "    plot_function(partial(q, *list(weights)))\n",
    "    plot_function(partial(q, 2.6, 1.5, 1.2), color='b')\n",
    "    print(weights)"
   ]
  },
  {
   "cell_type": "code",
   "execution_count": null,
   "id": "7ea8e029-4d0a-487f-8043-3f6ee3a22c7a",
   "metadata": {},
   "outputs": [],
   "source": []
  },
  {
   "cell_type": "code",
   "execution_count": null,
   "id": "14a1ef5c-d77c-4d39-89d2-fe07f45c2277",
   "metadata": {},
   "outputs": [],
   "source": []
  }
 ],
 "metadata": {
  "kernelspec": {
   "display_name": "Python 3 (ipykernel)",
   "language": "python",
   "name": "python3"
  },
  "language_info": {
   "codemirror_mode": {
    "name": "ipython",
    "version": 3
   },
   "file_extension": ".py",
   "mimetype": "text/x-python",
   "name": "python",
   "nbconvert_exporter": "python",
   "pygments_lexer": "ipython3",
   "version": "3.10.12"
  }
 },
 "nbformat": 4,
 "nbformat_minor": 5
}
